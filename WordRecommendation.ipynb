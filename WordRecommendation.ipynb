{
 "cells": [
  {
   "cell_type": "markdown",
   "id": "329c0a5d",
   "metadata": {},
   "source": [
    "# 基于文本的推荐系统"
   ]
  },
  {
   "cell_type": "markdown",
   "id": "db5989a5",
   "metadata": {},
   "source": [
    "#### 学号：3120220948  姓名：刘思雯"
   ]
  },
  {
   "cell_type": "markdown",
   "id": "dcc7f044",
   "metadata": {},
   "source": [
    "### [github地址](https://github.com/black552/DataMining2/tree/main)"
   ]
  },
  {
   "cell_type": "markdown",
   "id": "9d0538c3",
   "metadata": {},
   "source": [
    "##### 1.读取、处理数据"
   ]
  },
  {
   "cell_type": "code",
   "execution_count": 10,
   "id": "41f9600d",
   "metadata": {},
   "outputs": [
    {
     "name": "stdout",
     "output_type": "stream",
     "text": [
      "      用户    物品 是否相关\n",
      "0   用户96  物品24   相关\n",
      "1   用户11  物品70   相关\n",
      "2   用户26  物品41   相关\n",
      "3    用户5   物品1   相关\n",
      "4   用户53  物品57   相关\n",
      "5   用户47   物品1   相关\n",
      "6   用户31  物品99   相关\n",
      "7   用户93   物品6   相关\n",
      "8   用户11   物品1   相关\n",
      "9   用户11  物品10   相关\n",
      "10  用户64  物品14   相关\n",
      "11  用户72  物品78   相关\n",
      "12  用户90  物品69   相关\n",
      "13  用户56  物品36   相关\n",
      "14  用户49  物品92   相关\n"
     ]
    }
   ],
   "source": [
    "import csv\n",
    "import random\n",
    "import pandas as pd\n",
    "import re\n",
    "from sklearn.model_selection import train_test_split\n",
    "from sklearn.cluster import KMeans\n",
    "# open the file in the write mode\n",
    "with open('./data/user_item.csv', 'w', newline='') as f:\n",
    "    # create the csv writer\n",
    "    writer = csv.writer(f)\n",
    "    header = ['用户', '物品','是否相关']\n",
    "    writer.writerow(header)\n",
    "    for i in range(200):\n",
    "        user = '用户' + str(random.randint(1,100))\n",
    "        item = '物品' + str(random.randint(1, 100))\n",
    "        if i < 100:\n",
    "            isrelated = '相关'\n",
    "        else:\n",
    "            isrelated = '不相关'\n",
    "        row = [user, item, isrelated]\n",
    "        writer.writerow(row)\n",
    "uicsv = pd.read_csv('./data/user_item.csv',encoding='gb2312')\n",
    "print(uicsv.head(15)) # 打印前15行"
   ]
  },
  {
   "cell_type": "code",
   "execution_count": 11,
   "id": "3cdcfafe",
   "metadata": {},
   "outputs": [
    {
     "name": "stdout",
     "output_type": "stream",
     "text": [
      "       用户    物品 是否相关\n",
      "0    用户96  物品24   相关\n",
      "1    用户11  物品70   相关\n",
      "2    用户26  物品41   相关\n",
      "3     用户5   物品1   相关\n",
      "4    用户53  物品57   相关\n",
      "..    ...   ...  ...\n",
      "195  用户44  物品62  不相关\n",
      "196   用户9   物品5  不相关\n",
      "197  用户81  物品14  不相关\n",
      "198  用户36  物品82  不相关\n",
      "199  用户95  物品48  不相关\n",
      "\n",
      "[200 rows x 3 columns]\n",
      "     Unnamed: 0    用户    物品 是否相关\n",
      "0             0  用户96  物品24   相关\n",
      "1             1  用户11  物品70   相关\n",
      "2             2  用户26  物品41   相关\n",
      "3             3   用户5   物品1   相关\n",
      "4             4  用户53  物品57   相关\n",
      "..          ...   ...   ...  ...\n",
      "194         195  用户44  物品62  不相关\n",
      "195         196   用户9   物品5  不相关\n",
      "196         197  用户81  物品14  不相关\n",
      "197         198  用户36  物品82  不相关\n",
      "198         199  用户95  物品48  不相关\n",
      "\n",
      "[199 rows x 4 columns]\n"
     ]
    }
   ],
   "source": [
    "# 去重-去掉用户和物品重复的行\n",
    "frame=pd.read_csv('./data/user_item.csv',names=['用户','物品','是否相关'],skiprows = [0],encoding='gb2312')\n",
    "print(frame)\n",
    "data = frame.drop_duplicates(subset=['用户','物品'], keep='first', inplace=False)\n",
    "data.to_csv('./data/output.csv', encoding='gb2312')\n",
    "csvs = pd.read_csv('./data/output.csv',encoding='gb2312')\n",
    "print(csvs)"
   ]
  },
  {
   "cell_type": "code",
   "execution_count": 12,
   "id": "2c3246f3",
   "metadata": {},
   "outputs": [],
   "source": [
    "# 数据归一化\n",
    "orifile = csv.reader(open('./data/output.csv', 'r',encoding='gb2312'))\n",
    "tarfile = csv.writer(open('./data/normalization_output.csv', 'w', newline='', encoding='gb2312'))\n",
    "tarfile.writerow(['user', 'item', 'relative'])\n",
    "for i in orifile:\n",
    "    usero = re.sub('[\\u4e00-\\u9fa5]', '',i[1]) \n",
    "    if usero != '':\n",
    "        usern = float(usero)/ 100\n",
    "    else:\n",
    "        usern = 0\n",
    "    itemo = re.sub('[\\u4e00-\\u9fa5]', '',i[2]) \n",
    "    if itemo != '':\n",
    "        itemn = int(itemo)/ 100\n",
    "    else:\n",
    "        itemn = 0\n",
    "    relativeo = i[3]\n",
    "    if  relativeo == '相关':\n",
    "        relativen = 1\n",
    "    else:\n",
    "        relativen = 0\n",
    "    if usern!=0 and itemn!= 0:\n",
    "        tarfile.writerow([usern,itemn,relativen])"
   ]
  },
  {
   "cell_type": "markdown",
   "id": "934d2bd4",
   "metadata": {},
   "source": [
    "#### 2.文本挖掘"
   ]
  },
  {
   "cell_type": "code",
   "execution_count": 6,
   "id": "7bb23a0c",
   "metadata": {},
   "outputs": [
    {
     "name": "stdout",
     "output_type": "stream",
     "text": [
      "     user  item\n",
      "69   0.21  0.66\n",
      "48   0.07  0.89\n",
      "66   0.12  0.65\n",
      "54   0.48  0.87\n",
      "130  0.15  0.88\n",
      "..    ...   ...\n",
      "133  0.40  0.22\n",
      "137  0.28  0.41\n",
      "72   0.34  0.98\n",
      "140  0.44  0.02\n",
      "37   0.71  0.92\n",
      "\n",
      "[132 rows x 2 columns] 69     1\n",
      "48     1\n",
      "66     1\n",
      "54     1\n",
      "130    0\n",
      "      ..\n",
      "133    0\n",
      "137    0\n",
      "72     1\n",
      "140    0\n",
      "37     1\n",
      "Name: relative, Length: 132, dtype: int64\n"
     ]
    }
   ],
   "source": [
    "# 挖掘用户和物品之间的关联信息\n",
    "data = pd.read_csv('./data/normalization_output.csv', engine='python')\n",
    "texts = data[['user', 'item']]\n",
    "target = data['relative']\n",
    "X_train,X_test,y_train,y_test = train_test_split(texts,target,test_size=0.33,random_state=1)\n",
    "print(X_train,y_train)"
   ]
  },
  {
   "cell_type": "code",
   "execution_count": 4,
   "id": "1d8dba33",
   "metadata": {},
   "outputs": [],
   "source": [
    "number_of_clusters = 2\n",
    "model = KMeans(n_clusters=number_of_clusters,\n",
    "              init='k-means++',\n",
    "              max_iter=100,\n",
    "              n_init=1)\n",
    "yplabel=model.fit_predict(X_train)"
   ]
  },
  {
   "cell_type": "code",
   "execution_count": 64,
   "id": "0bdcf855",
   "metadata": {},
   "outputs": [
    {
     "name": "stdout",
     "output_type": "stream",
     "text": [
      "用户 93 将推荐物品  70 ,62 ,27\n",
      "用户 98 将推荐物品  48\n",
      "用户 97 将推荐物品  79 ,96\n",
      "用户 18 将推荐物品  98\n",
      "用户 68 将推荐物品  76\n",
      "用户 87 将推荐物品  78\n",
      "用户 69 将推荐物品  53\n",
      "用户 99 将推荐物品  65\n",
      "用户 54 将推荐物品  59\n",
      "用户 66 将推荐物品  74\n",
      "用户 34 将推荐物品  76\n",
      "用户 74 将推荐物品  83\n",
      "用户 24 将推荐物品  83\n",
      "用户 100 将推荐物品  21\n",
      "用户 64 将推荐物品  79 ,89\n",
      "用户 60 将推荐物品  91\n",
      "用户 72 将推荐物品  80\n",
      "用户 11 将推荐物品  97\n",
      "用户 95 将推荐物品  98\n",
      "用户 14 将推荐物品  90\n",
      "用户 47 将推荐物品  60\n",
      "用户 78 将推荐物品  88\n",
      "用户 30 将推荐物品  92\n",
      "用户 92 将推荐物品  74\n"
     ]
    }
   ],
   "source": [
    "labels = model.predict(X_test)\n",
    "utdict = {}\n",
    "for i in range(len(labels)):\n",
    "    if labels[i] == 1:\n",
    "        user = int(X_test.iloc[i][0] * 100)\n",
    "        item = int(X_test.iloc[i][1] * 100)\n",
    "        utdict.setdefault(user, []).append(item)\n",
    "#         print('用户',int(user), '将推荐物品', int(item))\n",
    "for item in utdict.items():\n",
    "    print('用户',item[0], '将推荐物品',' ', end='')\n",
    "    for i in range(len(item[1])):\n",
    "        if i == len(item[1])-1:\n",
    "            print(item[1][i])\n",
    "        else:\n",
    "            print(item[1][i], ',', end='')"
   ]
  },
  {
   "cell_type": "code",
   "execution_count": null,
   "id": "e55c2617",
   "metadata": {},
   "outputs": [],
   "source": []
  }
 ],
 "metadata": {
  "kernelspec": {
   "display_name": "Python 3 (ipykernel)",
   "language": "python",
   "name": "python3"
  },
  "language_info": {
   "codemirror_mode": {
    "name": "ipython",
    "version": 3
   },
   "file_extension": ".py",
   "mimetype": "text/x-python",
   "name": "python",
   "nbconvert_exporter": "python",
   "pygments_lexer": "ipython3",
   "version": "3.7.8"
  }
 },
 "nbformat": 4,
 "nbformat_minor": 5
}
